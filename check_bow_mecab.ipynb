{
 "cells": [
  {
   "cell_type": "markdown",
   "id": "b4aaec3b-6aa3-4c28-b3f8-7b8ee3219567",
   "metadata": {},
   "source": [
    "# Ref\n",
    "- [Bag of WordsをPythonで書いてみる](https://www.yakupro.info/entry/ml-bow)"
   ]
  },
  {
   "cell_type": "code",
   "execution_count": 3,
   "id": "e84cdbdd-e1ea-457b-9409-8b04767fd495",
   "metadata": {},
   "outputs": [],
   "source": [
    "from sklearn.feature_extraction.text import CountVectorizer\n",
    "import MeCab\n",
    " \n",
    "texts = [\n",
    "    \"マニュアルに出来ないことはない\",\n",
    "    \"マニュアルにないことは出来ない\"\n",
    "]\n",
    " \n",
    "def text_to_words(text):\n",
    "    tagger = MeCab.Tagger(\"-O wakati\")\n",
    "    return tagger.parse(text).split()"
   ]
  },
  {
   "cell_type": "code",
   "execution_count": 28,
   "id": "a43242db-8ece-4147-8bf4-1339fd5c4514",
   "metadata": {},
   "outputs": [
    {
     "name": "stdout",
     "output_type": "stream",
     "text": [
      "語彙の内容:  {'マニュアル': 10, 'に': 4, '出来': 12, 'ない': 2, 'こと': 0, 'は': 7, 'マニュアル に': 11, 'に 出来': 6, '出来 ない': 13, 'ない こと': 3, 'こと は': 1, 'は ない': 8, 'に ない': 5, 'は 出来': 9}\n",
      "[[1 1 2 1 1 0 1 1 1 0 1 1 1 1]\n",
      " [1 1 2 1 1 1 0 1 0 1 1 1 1 1]]\n"
     ]
    }
   ],
   "source": [
    "# ngram_range=(トークンの最小長, 最大長)\n",
    "vectorizer = CountVectorizer(tokenizer=text_to_words, ngram_range=(1, 2))\n",
    "X = vectorizer.fit_transform(texts)\n",
    "print('語彙の内容: ', vectorizer.vocabulary_)\n",
    "print(X.toarray())"
   ]
  }
 ],
 "metadata": {
  "kernelspec": {
   "display_name": "Python 3 (ipykernel)",
   "language": "python",
   "name": "python3"
  },
  "language_info": {
   "codemirror_mode": {
    "name": "ipython",
    "version": 3
   },
   "file_extension": ".py",
   "mimetype": "text/x-python",
   "name": "python",
   "nbconvert_exporter": "python",
   "pygments_lexer": "ipython3",
   "version": "3.9.12"
  }
 },
 "nbformat": 4,
 "nbformat_minor": 5
}
